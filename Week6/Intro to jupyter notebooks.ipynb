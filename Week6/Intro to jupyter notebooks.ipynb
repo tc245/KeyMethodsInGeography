{
 "cells": [
  {
   "cell_type": "markdown",
   "metadata": {},
   "source": [
    "Welcome to your first Jupyter notebook!\n",
    "=\n",
    "\n",
    "Introduction\n",
    "---\n",
    "In this introductory practical we are going to introduce ourselves to the basics of computer programming using the python programming language. These skills will be essential for us when we move onto some of the \"Digital Humanities\" archive approaches like web scraping (extracting material from webpages) and natural language processing (working with text materials like newspaper articles or social media posts).\n",
    "\n",
    "\n",
    "What is a Jupyter Notebook?!\n",
    "---\n",
    "\n",
    "Let's take a moment to get familiarised with what a jupyter notebook actually is! First and foremost, the Jupyter Notebook is an interactive environment for writing and running computer programming code. The notebook is capable of running code in a wide range of languages. However, each notebook is associated with a single kernel. What is a kernel I hear you ask? Think of the kernel basically as the \"computer\", the thing that is going to \"interpret\" the commands you send to it. This notebook is associated with the IPython kernel, therefore it interprets and runs Python code. In later practicals we will use the \"R\" kernel which will execute R commands (like you did in quantitative methods!).\n",
    "\n",
    "The notebooks are organised into \"cells\". A cell can be a \"Markdown\" type of cell which contains text (like this one). Or it can be a \"code\" cell which contains the raw computer code. When you \"run\" a code cell the commands in the cell are sent to the computer to be interpreted. The computer then sends back some output which will be displayed as output below the cell. Lets try out running some code with a classic first example...\n",
    "\n",
    "\n",
    "\"Hello World!\"\n",
    "---\n",
    "When programmers are learning a new language, we tend to write a one-line program that prints some version of the message \"Hello world!\" this is a simple program that shows whether your computer is properly set up to run Python programs.\n",
    "\n",
    "So lets do that. Place your cursor in the cell below and the run the code cell using either `Shift-Enter` or pressing the run <button class='btn btn-default btn-xs'><i class=\"icon-step-forward fa fa-play\"></i></button> button in the toolbar above:\n"
   ]
  },
  {
   "cell_type": "code",
   "execution_count": null,
   "metadata": {},
   "outputs": [],
   "source": [
    "print('Hello Python world!')"
   ]
  },
  {
   "cell_type": "markdown",
   "metadata": {},
   "source": [
    "You should see the text \"Hello Python world!\" printed above. If so, congratulations! You just ran your first Python program. Welcome to the world of computer programming!\n",
    "\n",
    "There are two other keyboard shortcuts for running code that might be useful:\n",
    "\n",
    "* `Alt-Enter` runs the current cell and inserts a new one below.\n",
    "* `Ctrl-Enter` run the current cell and enters command mode."
   ]
  },
  {
   "cell_type": "markdown",
   "metadata": {},
   "source": [
    "A few other things to note:\n",
    "---"
   ]
  },
  {
   "cell_type": "markdown",
   "metadata": {},
   "source": [
    "When code is being executed you will see a `*` symbol next to the cell that ie being run. This will chnge to a number when it is completed. This is important because sometimes a command will not generate any output and so the * helps you to know when a command has finished running. Run the below code to see this (it will take 5 seconds to complete):"
   ]
  },
  {
   "cell_type": "code",
   "execution_count": 7,
   "metadata": {},
   "outputs": [],
   "source": [
    "import time\n",
    "time.sleep(5)"
   ]
  },
  {
   "cell_type": "markdown",
   "metadata": {},
   "source": [
    "Cells will always be completed one after the other. So you can run cells before previous cells have completed and these will added to a \"queue\". Try this below by running the two cells below, one immediately after the other:"
   ]
  },
  {
   "cell_type": "code",
   "execution_count": null,
   "metadata": {},
   "outputs": [],
   "source": [
    "import time\n",
    "time.sleep(5)"
   ]
  },
  {
   "cell_type": "code",
   "execution_count": null,
   "metadata": {},
   "outputs": [],
   "source": [
    "import time\n",
    "time.sleep(5)"
   ]
  },
  {
   "cell_type": "markdown",
   "metadata": {},
   "source": [
    "To better handle large outputs, the output area can be collapsed. Run the following cell and then single- or double- click on the active area to the left of the output:"
   ]
  },
  {
   "cell_type": "code",
   "execution_count": null,
   "metadata": {},
   "outputs": [],
   "source": [
    "for i in range(50):\n",
    "    print(i)"
   ]
  },
  {
   "cell_type": "markdown",
   "metadata": {},
   "source": [
    "Beyond a certain point, output will scroll automatically. Run the below cell to test this out:"
   ]
  },
  {
   "cell_type": "code",
   "execution_count": null,
   "metadata": {},
   "outputs": [],
   "source": [
    "for i in range(500):\n",
    "    print(2**i - 1)"
   ]
  },
  {
   "cell_type": "markdown",
   "metadata": {},
   "source": [
    "You can of course add your own cells using the `+` button in the menu at the top of the notebook. This will be code cell by default but you can change this using the dropdown menu at the top of the screen. Try this now. Add a code cell below this cell and in that cell write some code to print a message of your choice andthen run this command. \n",
    "\n",
    "Hint: Use the code we used earlier to print the 'Hello Python world!' message making sure you change the message text!"
   ]
  },
  {
   "cell_type": "markdown",
   "metadata": {},
   "source": [
    "Lastly, you can use the menus at the top to do various things. You can use the `File` to open and close notebooks as well as save copies. I would advise that when you open one of the notebooks that you immediately save a copy by clicking `File` -> `Save as`. This will allow you to save a copy of the notebook with a new filename so that if you ever want to return to the original notebook you can. When you do this, a box will pop up with `Archives-Data-Science-Workshop/` written in it. Delete all of this text and just write whatever you want to call your notebook in the box and click `save`.\n",
    "\n",
    "The `Cell` menu button also has some useful functions particularly `Current Outputs` -> `Clear` which will clear any output in the cell you are currently in. This is useful if you want to clear the output before re-running the cell. "
   ]
  },
  {
   "cell_type": "markdown",
   "metadata": {},
   "source": [
    "Excellent! That completes our introduction  to using jupyter notebooks. Now onto some proper programming... "
   ]
  }
 ],
 "metadata": {
  "kernelspec": {
   "display_name": "Python 3",
   "language": "python",
   "name": "python3"
  },
  "language_info": {
   "codemirror_mode": {
    "name": "ipython",
    "version": 3
   },
   "file_extension": ".py",
   "mimetype": "text/x-python",
   "name": "python",
   "nbconvert_exporter": "python",
   "pygments_lexer": "ipython3",
   "version": "3.7.6"
  }
 },
 "nbformat": 4,
 "nbformat_minor": 4
}
