{
 "metadata": {
  "language_info": {
   "codemirror_mode": {
    "name": "ipython",
    "version": 3
   },
   "file_extension": ".py",
   "mimetype": "text/x-python",
   "name": "python",
   "nbconvert_exporter": "python",
   "pygments_lexer": "ipython3",
   "version": 3
  },
  "orig_nbformat": 2
 },
 "nbformat": 4,
 "nbformat_minor": 2,
 "cells": [
  {
   "source": [
    "#PRACTICAL 1 (WEEK 6): Introduction to R Commander"
   ],
   "cell_type": "markdown",
   "metadata": {}
  },
  {
   "source": [
    "By the end of this practical you should be able to:\n",
    "•\tOpen, modify and save R data files\n",
    "•\tView a dataset that is opened with R\n",
    "•\tSave an R dataset as an Excel file\n",
    "•\tSelect particular rows for analysis\n",
    "•\tProduce descriptive statistics using R\n",
    "•\tProduce plots (charts) using R\n"
   ],
   "cell_type": "markdown",
   "metadata": {}
  },
  {
   "source": [
    "##R Studio\n",
    "\n",
    "R is a programming language and free software environment for statistical computing and graphics supported by the R Foundation for Statistical Computing. The R lan-guage is widely used among statisticians and data miners for developing statistical software and data analysis. R-studio statistical program that allows you to store, trans-form and analyse data and produce charts and tables. \n",
    "\n",
    "After advanced training, many users of R do so through programming. However, R-studio provides an easy-to-use windows-based interface (“R-commander”) which we will use. Over the next 5 weeks you will be using a variety of statistical tests and meth-ods in R, through the use of this software.\n",
    "\n",
    "Demonstrators will be available to help in each practical class. If you require assis-tance at any time, just raise your hand and the demonstrators will assist you as soon as they can. The R software can sometimes be a little slow to respond, so be patient if it doesn’t immediately do what you expect it to.\n",
    "\n",
    "Some of the following exercises are intended to help you in learning how to use R-commander and will inevitably seem like pushing buttons. It would be easy to do this without thinking – if you push the right buttons you will get the “right” answers. Howev-er, for your formative and summative assessments, you will not receive such close guidance – these practicals are to prepare you for this! \n",
    "\n",
    "Try to think about what is going on behind the scenes at all times. What are the results telling you? Are they significant? Why did you run a particular test? What does the test mean? Is it the correct test?Thinking about it like this will help you enormously on the assessment,and if you choose to include any kind of quantitative analysis in your dis-sertation. There are many manuals and textbooks that can provide guidance on statis-tics, but they cannot tell you what to do when you are working with your own data; you will have to decide which tests to use with what data and how to interpret the results.\n",
    "\n",
    "##Preparation\n",
    "\n",
    "Before starting, make a folder in your network drive (“My Documents”) for the files that you will be using in the practical classes and the assignment. In the Practicals Data folder on Learn, you will find a file called FloridaSalaries; this is an R data file contain-ing data on starting salaries for graduates from the University of Florida. Double-click on this file and take the option to save it in your own practicals folder.\n",
    "\n",
    "##Part 1: Launching R Commander\n",
    "\n",
    "1. From your Windows Start Menu, open R Studio R-3.5.2. You should see a window with several panels:\n",
    "\n",
    " \n",
    "\n"
   ],
   "cell_type": "markdown",
   "metadata": {}
  }
 ]
}